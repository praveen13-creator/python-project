{
 "cells": [
  {
   "cell_type": "code",
   "execution_count": 1,
   "id": "11841a83-c7b6-442b-9e22-ffe4b8e64000",
   "metadata": {},
   "outputs": [
    {
     "data": {
      "text/plain": [
       "True"
      ]
     },
     "execution_count": 1,
     "metadata": {},
     "output_type": "execute_result"
    }
   ],
   "source": [
    "import nltk\n",
    "nltk.download('punkt', quiet=True)\n",
    "nltk.download('stopwords', quiet=True)"
   ]
  },
  {
   "cell_type": "code",
   "execution_count": 5,
   "id": "d6587200-b0a2-4a0b-8571-4e6e07baee9b",
   "metadata": {},
   "outputs": [
    {
     "name": "stdout",
     "output_type": "stream",
     "text": [
      "No words remaining after filtering. Try:\n",
      "- Reducing stopwords\n",
      "- Checking app names\n",
      "- Reviewing source data\n"
     ]
    }
   ],
   "source": [
    "import pandas as pd\n",
    "import matplotlib.pyplot as plt\n",
    "from wordcloud import WordCloud\n",
    "import nltk\n",
    "import re\n",
    "nltk.download(['punkt', 'stopwords'], quiet=True)\n",
    "try:\n",
    "    df = pd.read_csv('googleplaystore.csv')\n",
    "except FileNotFoundError:\n",
    "    print(\"Error: File not found. Check the filename and path.\")\n",
    "    exit()\n",
    "def clean_data(df):\n",
    "    df['Category'] = df['Category'].str.strip().str.upper()\n",
    "    health_mask = df['Category'].isin(['HEALTH_AND_FITNESS', 'HEALTH & FITNESS'])\n",
    "    df['Rating'] = pd.to_numeric(df['Rating'], errors='coerce')\n",
    "    filtered = df[health_mask & (df['Rating'] == 5)].copy()\n",
    "    filtered['Reviews'] = filtered['Reviews'].fillna('').astype(str)\n",
    "    return filtered\n",
    "filtered_df = clean_data(df)\n",
    "if filtered_df.empty:\n",
    "    print(\"No 5-star Health & Fitness reviews found\")\n",
    "    exit()\n",
    "all_text = ' '.join(filtered_df['Reviews']).lower()\n",
    "words = re.findall(r'\\b[a-z]{3,}\\b', all_text)  \n",
    "stopwords = set(nltk.corpus.stopwords.words('english'))\n",
    "app_names = [name.lower() for name in filtered_df['App'].unique()]\n",
    "stopwords.update(app_names)\n",
    "filtered_words = [word for word in words if word not in stopwords]\n",
    "if not filtered_words:\n",
    "    print(\"No words remaining after filtering. Try:\")\n",
    "    print(\"- Reducing stopwords\\n- Checking app names\\n- Reviewing source data\")\n",
    "else:\n",
    "    wordcloud = WordCloud(\n",
    "        width=800,\n",
    "        height=400,\n",
    "        background_color='white',\n",
    "        collocations=False\n",
    "    ).generate(' '.join(filtered_words))\n",
    "    \n",
    "    plt.figure(figsize=(10, 5))\n",
    "    plt.imshow(wordcloud)\n",
    "    plt.axis('off')\n",
    "    plt.show()"
   ]
  },
  {
   "cell_type": "code",
   "execution_count": 7,
   "id": "9553c3e6-9fae-4390-94cf-8386a161193e",
   "metadata": {},
   "outputs": [
    {
     "name": "stdout",
     "output_type": "stream",
     "text": [
      "Total Health & Fitness apps: 12\n",
      "Sample reviews: ['3' '1' '2']\n",
      "App names in stopwords: ['bm physiotherapy clinic', 'mi-bp', 'bacterial vaginosis treatment - sexual disease', 'cb fit', 'c b patel health club']\n",
      "First 20 filtered words: []\n"
     ]
    }
   ],
   "source": [
    "print(\"Total Health & Fitness apps:\", len(filtered_df))\n",
    "print(\"Sample reviews:\", filtered_df['Reviews'].head(3).values)\n",
    "print(\"App names in stopwords:\", app_names[:5])\n",
    "print(\"First 20 filtered words:\", filtered_words[:20])"
   ]
  },
  {
   "cell_type": "code",
   "execution_count": null,
   "id": "57437ca2-a94e-40c1-b975-d70671249ec3",
   "metadata": {},
   "outputs": [],
   "source": []
  }
 ],
 "metadata": {
  "kernelspec": {
   "display_name": "Python 3 (ipykernel)",
   "language": "python",
   "name": "python3"
  },
  "language_info": {
   "codemirror_mode": {
    "name": "ipython",
    "version": 3
   },
   "file_extension": ".py",
   "mimetype": "text/x-python",
   "name": "python",
   "nbconvert_exporter": "python",
   "pygments_lexer": "ipython3",
   "version": "3.12.7"
  }
 },
 "nbformat": 4,
 "nbformat_minor": 5
}
